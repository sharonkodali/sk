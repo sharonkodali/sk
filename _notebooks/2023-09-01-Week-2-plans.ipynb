{
 "cells": [
  {
   "cell_type": "markdown",
   "metadata": {},
   "source": [
    "---\n",
    "toc: true\n",
    "comments: true\n",
    "layout: post\n",
    "title: Week 2 plans \n",
    "description: Plans for week 2\n",
    "courses: { csp: {week: 2} }\n",
    "type: plans\n",
    "---"
   ]
  },
  {
   "cell_type": "markdown",
   "metadata": {},
   "source": [
    "## Week 2 plans \n",
    "- Add notebooks for each week so far\n",
    "- show work in notebook for intro to python activity\n",
    "- start calculator project\n",
    "- change homepage \n",
    "- add hacks to notebook\n",
    "- add a snake game\n",
    "- work on READme"
   ]
  }
 ],
 "metadata": {
  "language_info": {
   "name": "python"
  },
  "orig_nbformat": 4
 },
 "nbformat": 4,
 "nbformat_minor": 2
}
